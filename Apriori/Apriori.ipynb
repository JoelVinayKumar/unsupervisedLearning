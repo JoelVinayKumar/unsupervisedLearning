{
 "cells": [
  {
   "cell_type": "markdown",
   "metadata": {},
   "source": [
    "A trip to the grocery store provides many examples of machine learning in action today and future uses of it. The way items are displayed, the coupons offered to you after you purchase something, and loyalty programs all are driven by massive amounts of data crunching.\n",
    "\n",
    "Loyalty programs, used to give the customers a discount, can provide the store what a customer is purchasing. In case if the customer did not use loyalty card they will look at his/her credit card. If the payment mode is cash then store looks at the type of products that are bought together by that customer.\n",
    "\n",
    "And looking at the common items that are frequently bought together gives stoe the behavioral patterns of the customer. And finding the hidden relationships in the data is called as association analysis. And finding those kind of patterns is a very time consuming and computationally expensive task. \n",
    "\n",
    "Apriori algorithm is used to perform association rule mining, that in turn are used to extract frequent items sets. "
   ]
  },
  {
   "cell_type": "markdown",
   "metadata": {},
   "source": [
    "###### Association analysis\n",
    "\n",
    "Association analysis is the task of finding interesting relationships in large datasets. These interesting relationships can take two forms\n",
    "- frequent item sets: Collection of items that frequently occur together\n",
    "- Association rules: These rules suggest that a strong relationship exists between two items. \n",
    "\n",
    "Example:\n",
    "A list of transactions from a grocery store is shown in the below table.\n",
    " <table style=\"width:100%\">\n",
    "  <tr>\n",
    "    <th>Transaction number</th>\n",
    "    <th>Items</th>\n",
    "  </tr>\n",
    "  <tr>\n",
    "    <td>1</td>\n",
    "    <td>soy milk, lettuce</td>\n",
    "  </tr>\n",
    "  <tr>\n",
    "    <td>2</td>\n",
    "    <td>lettuce, diapers, wine, curd</td>\n",
    "  </tr>\n",
    "  <tr>\n",
    "    <td>3</td>\n",
    "    <td>soy milk, diapers, wine, orange juice</td>\n",
    "  </tr>\n",
    "  <tr>\n",
    "    <td>4</td>\n",
    "    <td>lettuce, soy milk, wine, diapers</td>\n",
    "  </tr>\n",
    "  <tr>\n",
    "    <td>5</td>\n",
    "    <td>lettuce, diapers, soy milk, orange juice</td>\n",
    "  </tr>\n",
    "</table> \n",
    "\n",
    "From this example, in transaction 1 {soy milk, lettuce} were bought together now they are called as a frequent item set. \n",
    "And from this data we can find an association rule diapers -> wine. Which means if someone buys diapers then there is very high probability for them to buy wine. By identifying these kind of frequent item sets and association rules sellers can understand the customers behavious much more.\n",
    "\n",
    "Another best example of association analysis is <a href=\"http://www.dssresources.com/newsletters/66.php\">here</a>.\n",
    "In this a store in the midwest US noticed that men bought diapers and beer frequently on thrusdays. Now all the store has to do is place those both items nearer."
   ]
  },
  {
   "cell_type": "markdown",
   "metadata": {},
   "source": [
    "But,\n",
    "- How do we define these so-called interesting relationships.\n",
    "- Who defines what's interesting\n",
    "- While looking for frequent sets, what's the definition of frequent?\n",
    "    \n",
    "Like these there could be innumerable questions that need to be answered, many concepts are used to explain above questions but two most important are support and confidence.\n",
    "\n",
    "**Support** of an itemset is defined as the percentage of the dataset that contains this itemset.\n",
    "\n",
    "Ex: From above image \n",
    "\n",
    "**Support**({soy milk}) = 4/5\n",
    "\n",
    "**Support**({soy milk, diaper}) = 3/5\n",
    "\n",
    "Support is applied to an itemset, hence by specifying a threshould value we can select itemsets that meet our criteria.\n",
    "\n",
    "\n",
    "**Confidence** is defined for an association rule like , **{diapers} -> {wine}**.<br>\n",
    "The confidence for this rule is defined as **support**({diapers, wine})/**support**({diapers}).\n",
    "\n",
    "Ex: **Support**({diapers, wine}) = 3/5\n",
    "\n",
    "**Support**({diapers}) = 4/5\n",
    "\n",
    "**Confidence**({diapers} -> {wine}) = 3/4\n",
    "\n",
    "The support and confidence are ways we can quantify the success of our association analysis."
   ]
  },
  {
   "cell_type": "markdown",
   "metadata": {},
   "source": [
    "###### Apriori Principle\n"
   ]
  },
  {
   "cell_type": "code",
   "execution_count": null,
   "metadata": {},
   "outputs": [],
   "source": []
  },
  {
   "cell_type": "code",
   "execution_count": null,
   "metadata": {},
   "outputs": [],
   "source": []
  },
  {
   "cell_type": "code",
   "execution_count": null,
   "metadata": {},
   "outputs": [],
   "source": []
  },
  {
   "cell_type": "code",
   "execution_count": null,
   "metadata": {},
   "outputs": [],
   "source": []
  },
  {
   "cell_type": "code",
   "execution_count": null,
   "metadata": {},
   "outputs": [],
   "source": []
  },
  {
   "cell_type": "code",
   "execution_count": null,
   "metadata": {},
   "outputs": [],
   "source": []
  },
  {
   "cell_type": "code",
   "execution_count": null,
   "metadata": {},
   "outputs": [],
   "source": []
  },
  {
   "cell_type": "code",
   "execution_count": null,
   "metadata": {},
   "outputs": [],
   "source": []
  },
  {
   "cell_type": "code",
   "execution_count": null,
   "metadata": {},
   "outputs": [],
   "source": []
  }
 ],
 "metadata": {
  "kernelspec": {
   "display_name": "Python 3",
   "language": "python",
   "name": "python3"
  },
  "language_info": {
   "codemirror_mode": {
    "name": "ipython",
    "version": 3
   },
   "file_extension": ".py",
   "mimetype": "text/x-python",
   "name": "python",
   "nbconvert_exporter": "python",
   "pygments_lexer": "ipython3",
   "version": "3.6.4"
  }
 },
 "nbformat": 4,
 "nbformat_minor": 2
}
